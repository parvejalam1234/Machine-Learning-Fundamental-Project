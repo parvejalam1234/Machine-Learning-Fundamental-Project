{
 "cells": [
  {
   "cell_type": "code",
   "execution_count": 1,
   "metadata": {},
   "outputs": [],
   "source": [
    "import pandas as pd\n",
    "import numpy as np\n",
    "import seaborn as sns\n",
    "import matplotlib.pyplot as plt"
   ]
  },
  {
   "cell_type": "code",
   "execution_count": 3,
   "metadata": {},
   "outputs": [],
   "source": [
    "df = pd.read_csv(\"/workspaces/Machine-Learning-Fundamental-Project/regression_dataset.csv\")"
   ]
  },
  {
   "cell_type": "code",
   "execution_count": 4,
   "metadata": {},
   "outputs": [
    {
     "data": {
      "text/html": [
       "<div>\n",
       "<style scoped>\n",
       "    .dataframe tbody tr th:only-of-type {\n",
       "        vertical-align: middle;\n",
       "    }\n",
       "\n",
       "    .dataframe tbody tr th {\n",
       "        vertical-align: top;\n",
       "    }\n",
       "\n",
       "    .dataframe thead th {\n",
       "        text-align: right;\n",
       "    }\n",
       "</style>\n",
       "<table border=\"1\" class=\"dataframe\">\n",
       "  <thead>\n",
       "    <tr style=\"text-align: right;\">\n",
       "      <th></th>\n",
       "      <th>Age</th>\n",
       "      <th>Education_Level</th>\n",
       "      <th>Occupation</th>\n",
       "      <th>Number_of_Dependents</th>\n",
       "      <th>Location</th>\n",
       "      <th>Work_Experience</th>\n",
       "      <th>Marital_Status</th>\n",
       "      <th>Employment_Status</th>\n",
       "      <th>Household_Size</th>\n",
       "      <th>Homeownership_Status</th>\n",
       "      <th>Type_of_Housing</th>\n",
       "      <th>Gender</th>\n",
       "      <th>Primary_Mode_of_Transportation</th>\n",
       "      <th>Income</th>\n",
       "    </tr>\n",
       "  </thead>\n",
       "  <tbody>\n",
       "    <tr>\n",
       "      <th>0</th>\n",
       "      <td>56</td>\n",
       "      <td>Master's</td>\n",
       "      <td>Technology</td>\n",
       "      <td>5</td>\n",
       "      <td>Urban</td>\n",
       "      <td>21</td>\n",
       "      <td>Married</td>\n",
       "      <td>Full-time</td>\n",
       "      <td>7</td>\n",
       "      <td>Own</td>\n",
       "      <td>Apartment</td>\n",
       "      <td>Male</td>\n",
       "      <td>Public transit</td>\n",
       "      <td>72510</td>\n",
       "    </tr>\n",
       "    <tr>\n",
       "      <th>1</th>\n",
       "      <td>69</td>\n",
       "      <td>High School</td>\n",
       "      <td>Finance</td>\n",
       "      <td>0</td>\n",
       "      <td>Urban</td>\n",
       "      <td>4</td>\n",
       "      <td>Single</td>\n",
       "      <td>Full-time</td>\n",
       "      <td>7</td>\n",
       "      <td>Own</td>\n",
       "      <td>Apartment</td>\n",
       "      <td>Male</td>\n",
       "      <td>Biking</td>\n",
       "      <td>75462</td>\n",
       "    </tr>\n",
       "    <tr>\n",
       "      <th>2</th>\n",
       "      <td>46</td>\n",
       "      <td>Bachelor's</td>\n",
       "      <td>Technology</td>\n",
       "      <td>1</td>\n",
       "      <td>Urban</td>\n",
       "      <td>1</td>\n",
       "      <td>Single</td>\n",
       "      <td>Full-time</td>\n",
       "      <td>7</td>\n",
       "      <td>Own</td>\n",
       "      <td>Single-family home</td>\n",
       "      <td>Female</td>\n",
       "      <td>Car</td>\n",
       "      <td>71748</td>\n",
       "    </tr>\n",
       "    <tr>\n",
       "      <th>3</th>\n",
       "      <td>32</td>\n",
       "      <td>High School</td>\n",
       "      <td>Others</td>\n",
       "      <td>2</td>\n",
       "      <td>Urban</td>\n",
       "      <td>32</td>\n",
       "      <td>Married</td>\n",
       "      <td>Full-time</td>\n",
       "      <td>1</td>\n",
       "      <td>Own</td>\n",
       "      <td>Apartment</td>\n",
       "      <td>Female</td>\n",
       "      <td>Car</td>\n",
       "      <td>74520</td>\n",
       "    </tr>\n",
       "    <tr>\n",
       "      <th>4</th>\n",
       "      <td>60</td>\n",
       "      <td>Bachelor's</td>\n",
       "      <td>Finance</td>\n",
       "      <td>3</td>\n",
       "      <td>Urban</td>\n",
       "      <td>15</td>\n",
       "      <td>Married</td>\n",
       "      <td>Self-employed</td>\n",
       "      <td>4</td>\n",
       "      <td>Own</td>\n",
       "      <td>Townhouse</td>\n",
       "      <td>Male</td>\n",
       "      <td>Walking</td>\n",
       "      <td>640210</td>\n",
       "    </tr>\n",
       "  </tbody>\n",
       "</table>\n",
       "</div>"
      ],
      "text/plain": [
       "   Age Education_Level  Occupation  Number_of_Dependents Location  \\\n",
       "0   56        Master's  Technology                     5    Urban   \n",
       "1   69     High School     Finance                     0    Urban   \n",
       "2   46      Bachelor's  Technology                     1    Urban   \n",
       "3   32     High School      Others                     2    Urban   \n",
       "4   60      Bachelor's     Finance                     3    Urban   \n",
       "\n",
       "   Work_Experience Marital_Status Employment_Status  Household_Size  \\\n",
       "0               21        Married         Full-time               7   \n",
       "1                4         Single         Full-time               7   \n",
       "2                1         Single         Full-time               7   \n",
       "3               32        Married         Full-time               1   \n",
       "4               15        Married     Self-employed               4   \n",
       "\n",
       "  Homeownership_Status     Type_of_Housing  Gender  \\\n",
       "0                  Own           Apartment    Male   \n",
       "1                  Own           Apartment    Male   \n",
       "2                  Own  Single-family home  Female   \n",
       "3                  Own           Apartment  Female   \n",
       "4                  Own           Townhouse    Male   \n",
       "\n",
       "  Primary_Mode_of_Transportation  Income  \n",
       "0                 Public transit   72510  \n",
       "1                         Biking   75462  \n",
       "2                            Car   71748  \n",
       "3                            Car   74520  \n",
       "4                        Walking  640210  "
      ]
     },
     "execution_count": 4,
     "metadata": {},
     "output_type": "execute_result"
    }
   ],
   "source": [
    "df.head()"
   ]
  },
  {
   "cell_type": "code",
   "execution_count": 8,
   "metadata": {},
   "outputs": [
    {
     "data": {
      "text/plain": [
       "Index(['Age', 'Education_Level', 'Occupation', 'Number_of_Dependents',\n",
       "       'Location', 'Work_Experience', 'Marital_Status', 'Employment_Status',\n",
       "       'Household_Size', 'Homeownership_Status', 'Type_of_Housing', 'Gender',\n",
       "       'Primary_Mode_of_Transportation', 'Income'],\n",
       "      dtype='object')"
      ]
     },
     "execution_count": 8,
     "metadata": {},
     "output_type": "execute_result"
    }
   ],
   "source": [
    "df.columns"
   ]
  },
  {
   "cell_type": "code",
   "execution_count": 5,
   "metadata": {},
   "outputs": [
    {
     "data": {
      "text/plain": [
       "Age                               0\n",
       "Education_Level                   0\n",
       "Occupation                        0\n",
       "Number_of_Dependents              0\n",
       "Location                          0\n",
       "Work_Experience                   0\n",
       "Marital_Status                    0\n",
       "Employment_Status                 0\n",
       "Household_Size                    0\n",
       "Homeownership_Status              0\n",
       "Type_of_Housing                   0\n",
       "Gender                            0\n",
       "Primary_Mode_of_Transportation    0\n",
       "Income                            0\n",
       "dtype: int64"
      ]
     },
     "execution_count": 5,
     "metadata": {},
     "output_type": "execute_result"
    }
   ],
   "source": [
    "df.isna().sum()"
   ]
  },
  {
   "cell_type": "code",
   "execution_count": 22,
   "metadata": {},
   "outputs": [
    {
     "name": "stdout",
     "output_type": "stream",
     "text": [
      "<class 'pandas.core.frame.DataFrame'>\n",
      "RangeIndex: 10000 entries, 0 to 9999\n",
      "Data columns (total 14 columns):\n",
      " #   Column                          Non-Null Count  Dtype \n",
      "---  ------                          --------------  ----- \n",
      " 0   Age                             10000 non-null  int64 \n",
      " 1   Education_Level                 10000 non-null  object\n",
      " 2   Occupation                      10000 non-null  object\n",
      " 3   Number_of_Dependents            10000 non-null  int64 \n",
      " 4   Location                        10000 non-null  object\n",
      " 5   Work_Experience                 10000 non-null  int64 \n",
      " 6   Marital_Status                  10000 non-null  object\n",
      " 7   Employment_Status               10000 non-null  object\n",
      " 8   Household_Size                  10000 non-null  int64 \n",
      " 9   Homeownership_Status            10000 non-null  object\n",
      " 10  Type_of_Housing                 10000 non-null  object\n",
      " 11  Gender                          10000 non-null  object\n",
      " 12  Primary_Mode_of_Transportation  10000 non-null  object\n",
      " 13  Income                          10000 non-null  int64 \n",
      "dtypes: int64(5), object(9)\n",
      "memory usage: 1.1+ MB\n"
     ]
    }
   ],
   "source": [
    "df.info()"
   ]
  },
  {
   "cell_type": "code",
   "execution_count": 23,
   "metadata": {},
   "outputs": [],
   "source": [
    "from sklearn.model_selection import train_test_split\n",
    "from sklearn.preprocessing import StandardScaler, OneHotEncoder\n",
    "from sklearn.compose import ColumnTransformer\n",
    "from sklearn.pipeline import Pipeline\n",
    "from sklearn.impute import SimpleImputer"
   ]
  },
  {
   "cell_type": "code",
   "execution_count": 24,
   "metadata": {},
   "outputs": [],
   "source": [
    "X = df.drop('Income', axis=1)\n",
    "y = df['Income']"
   ]
  },
  {
   "cell_type": "code",
   "execution_count": 25,
   "metadata": {},
   "outputs": [],
   "source": [
    "numeric_features = ['Age', 'Number_of_Dependents', 'Work_Experience', 'Household_Size']\n",
    "categorical_features = ['Education_Level', 'Occupation', 'Location', 'Marital_Status', \n",
    "                        'Employment_Status', 'Homeownership_Status', 'Type_of_Housing', \n",
    "                        'Gender', 'Primary_Mode_of_Transportation']"
   ]
  },
  {
   "cell_type": "code",
   "execution_count": 26,
   "metadata": {},
   "outputs": [],
   "source": [
    "numeric_transformer = Pipeline(steps=[\n",
    "    ('scaler', StandardScaler())])"
   ]
  },
  {
   "cell_type": "code",
   "execution_count": 27,
   "metadata": {},
   "outputs": [],
   "source": [
    "categorical_transformer = Pipeline(steps=[\n",
    "    ('onehot', OneHotEncoder(handle_unknown='ignore'))])\n"
   ]
  },
  {
   "cell_type": "code",
   "execution_count": 28,
   "metadata": {},
   "outputs": [],
   "source": [
    "preprocessor = ColumnTransformer(\n",
    "    transformers=[\n",
    "        ('num', numeric_transformer, numeric_features),\n",
    "        ('cat', categorical_transformer, categorical_features)])"
   ]
  },
  {
   "cell_type": "code",
   "execution_count": 29,
   "metadata": {},
   "outputs": [],
   "source": [
    "X_train, X_test, y_train, y_test = train_test_split(X, y, test_size=0.2, random_state=23)"
   ]
  },
  {
   "cell_type": "code",
   "execution_count": 30,
   "metadata": {},
   "outputs": [],
   "source": [
    "X_train = preprocessor.fit_transform(X_train)\n",
    "X_test = preprocessor.transform(X_test)"
   ]
  },
  {
   "cell_type": "code",
   "execution_count": 31,
   "metadata": {},
   "outputs": [],
   "source": [
    "from sklearn.linear_model import LinearRegression\n",
    "from sklearn.ensemble import RandomForestRegressor, GradientBoostingRegressor"
   ]
  },
  {
   "cell_type": "code",
   "execution_count": 32,
   "metadata": {},
   "outputs": [],
   "source": [
    "models = {\n",
    "    'Linear Regression': LinearRegression(),\n",
    "    'Random Forest': RandomForestRegressor(random_state=42),\n",
    "    'Gradient Boosting': GradientBoostingRegressor(random_state=42)\n",
    "}"
   ]
  },
  {
   "cell_type": "code",
   "execution_count": 33,
   "metadata": {},
   "outputs": [
    {
     "name": "stdout",
     "output_type": "stream",
     "text": [
      "Linear Regression trained.\n",
      "Random Forest trained.\n",
      "Gradient Boosting trained.\n"
     ]
    }
   ],
   "source": [
    "for name, model in models.items():\n",
    "    model.fit(X_train, y_train)\n",
    "    print(f\"{name} trained.\")"
   ]
  },
  {
   "cell_type": "code",
   "execution_count": 34,
   "metadata": {},
   "outputs": [],
   "source": [
    "from sklearn.metrics import mean_squared_error, r2_score\n",
    "import numpy as np"
   ]
  },
  {
   "cell_type": "code",
   "execution_count": 35,
   "metadata": {},
   "outputs": [
    {
     "name": "stdout",
     "output_type": "stream",
     "text": [
      "Linear Regression:\n",
      " MSE: 3255652855360.084\n",
      " RMSE: 1804342.77656993\n",
      " R²: -0.0002231856905181573\n",
      "\n",
      "Random Forest:\n",
      " MSE: 3156530459922.089\n",
      " RMSE: 1776662.731055641\n",
      " R²: 0.0302298517010563\n",
      "\n",
      "Gradient Boosting:\n",
      " MSE: 3175351279122.32\n",
      " RMSE: 1781951.5366929371\n",
      " R²: 0.02444759524617446\n",
      "\n"
     ]
    }
   ],
   "source": [
    "for name, model in models.items():\n",
    "    y_pred = model.predict(X_test)\n",
    "    mse = mean_squared_error(y_test, y_pred)\n",
    "    rmse = np.sqrt(mse)\n",
    "    r2 = r2_score(y_test, y_pred)\n",
    "    print(f\"{name}:\\n MSE: {mse}\\n RMSE: {rmse}\\n R²: {r2}\\n\")"
   ]
  },
  {
   "cell_type": "code",
   "execution_count": 36,
   "metadata": {},
   "outputs": [
    {
     "data": {
      "text/plain": [
       "['best_income_model.pkl']"
      ]
     },
     "execution_count": 36,
     "metadata": {},
     "output_type": "execute_result"
    }
   ],
   "source": [
    "import joblib\n",
    "best_model = models['Gradient Boosting']\n",
    "joblib.dump(best_model, 'best_income_model.pkl')"
   ]
  }
 ],
 "metadata": {
  "kernelspec": {
   "display_name": "Python 3",
   "language": "python",
   "name": "python3"
  },
  "language_info": {
   "codemirror_mode": {
    "name": "ipython",
    "version": 3
   },
   "file_extension": ".py",
   "mimetype": "text/x-python",
   "name": "python",
   "nbconvert_exporter": "python",
   "pygments_lexer": "ipython3",
   "version": "3.12.1"
  }
 },
 "nbformat": 4,
 "nbformat_minor": 2
}
